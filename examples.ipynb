{
 "cells": [
  {
   "cell_type": "markdown",
   "metadata": {},
   "source": [
    "# Degree-day Calculator \n",
    "\n",
    "## Examples for using the phthon code\n",
    "\n",
    "Calculates the thermokarst initiation likelihood based on chosen method which can be the climate priming method, as that is the only option at this point in time. A command line tool also exists. It works using the default parameters in many cases. To see its instructions run `python ddc/utility.py --help` at the command line.\n",
    "\n"
   ]
  },
  {
   "cell_type": "markdown",
   "metadata": {},
   "source": [
    "### Imports"
   ]
  },
  {
   "cell_type": "code",
   "execution_count": 1,
   "metadata": {},
   "outputs": [],
   "source": [
    "from ddc.calc_degree_days import calc_grid_degree_days, create_day_array\n",
    "from ddc.multigrids import tools, TemporalGrid\n",
    "import os, glob\n",
    "import matplotlib.pyplot as plt\n",
    "import gdal\n",
    "import numpy as np\n",
    "\n",
    "from multiprocessing import Manager\n",
    "from datetime import datetime"
   ]
  },
  {
   "cell_type": "markdown",
   "metadata": {},
   "source": [
    "### Loading Data\n",
    "\n",
    "The data need to be loaded in to a special grid format, from multigrids. This gird type is a wraper around the numpy memmap functionality, and was devloped as the internal data representation format for atm project. All of the grid code is in the `muligrids` sub-pakage but the only functions needed to load the data are in `ddc.multigrids.tools`\n",
    "\n",
    "#### Important functions and classes\n",
    "- `ddc.TemporalGrid`:\n",
    "    This class represnets a grid of data that changes with time\n",
    "- `ddc.multigrids.tools.load_and_create`:\n",
    "    This load the data from a directory containing tiff files\n",
    "- `ddc.multigrids.tools.get_raster_metadata`:\n",
    "    This loads the raster transform, and projection from a raster dataset"
   ]
  },
  {
   "cell_type": "markdown",
   "metadata": {},
   "source": [
    "#### Load Monthly Temperature data\n",
    "\n",
    "use the `ddc.multigrids.tools.load_and_create` function to load the monthly temperature data in to a MultiGrid.\n",
    "\n",
    "##### Parameters\n",
    "- load_params: dict\n",
    "        parameters used to load the data from the tiff files. Keys are as follows:\n",
    "        `directory`: path to the data.\n",
    "        `method`: method for loading data. This must be \"tiff\" \n",
    "        `file_name_structure`: File expansion pattern used by `glob.glob` to find files to load. \n",
    "        Deafaults to '*.tif'\n",
    "        `sort_func`: Function to sort files. Defaults to `sorted`\n",
    "        `verbose`: If True, messages are printed describing the status of the loading data. Defautls to False\n",
    "        \n",
    "- create_params: dict\n",
    "        Keyword paramters used in multigrid.TemporalGrid creation. Only the important keys for this process are \n",
    "        shown here, for other options see the `ddc.multigrids.tools.create` documentation. Keys are as follows:\n",
    "        `name`: a name for the data set\n",
    "        `start_timestep`: the start year for the data\n"
   ]
  },
  {
   "cell_type": "markdown",
   "metadata": {},
   "source": [
    "##### Load Data\n",
    "\n",
    "First caclulate the number of years from the number of monthly files, and create the grid names used to index the data in the grid.\n",
    "\n"
   ]
  },
  {
   "cell_type": "code",
   "execution_count": 2,
   "metadata": {},
   "outputs": [],
   "source": [
    "path = \"../data/V1/temperature/monthly/SP/v1/tiff/\"\n",
    "\n",
    "## calculate the number of years from the number of monthly files\n",
    "start_year = 1901\n",
    "months = [\n",
    "    '01','02','03','04','05','06',\n",
    "    '07','08','09','10','11','12',\n",
    "]\n",
    "\n",
    "num_years = len(\n",
    "    glob.glob(os.path.join(path,'*.tif')) \n",
    ") \n",
    "num_years = num_years // 12\n",
    "\n",
    "years = [start_year + yr for yr in range(num_years)]\n",
    "\n",
    "\n",
    "temporal_grid_keys = [] \n",
    "for yr in years: \n",
    "    for mn in months: \n",
    "        temporal_grid_keys.append(str(yr) + '-' + str(mn)) \n",
    "\n",
    "\n",
    "load_params = {\n",
    "    \"directory\": path,\n",
    "    \"method\": \"tiff\",\n",
    "    \"file_name_structure\": '*.tif',\n",
    "    \"sort_func\": sorted, \n",
    "    \"verbose\": False\n",
    "}\n",
    "\n",
    "create_params = {\n",
    "    \"name\": \"Monthly Temperature\",  \n",
    "    \"grid_names\": temporal_grid_keys\n",
    "}\n",
    "\n",
    "temperature_data = tools.load_and_create(load_params, create_params)"
   ]
  },
  {
   "cell_type": "markdown",
   "metadata": {},
   "source": [
    "##### Load the raster metadata\n"
   ]
  },
  {
   "cell_type": "code",
   "execution_count": 3,
   "metadata": {},
   "outputs": [],
   "source": [
    "raster_file = glob.glob(os.path.join(path,'*.tif'))[0]\n",
    "raster_metadata = tools.get_raster_metadata(raster_file)\n",
    "temperature_data.config['raster_metadata'] = raster_metadata"
   ]
  },
  {
   "cell_type": "markdown",
   "metadata": {},
   "source": [
    "##### Mask out missing data"
   ]
  },
  {
   "cell_type": "code",
   "execution_count": 4,
   "metadata": {},
   "outputs": [],
   "source": [
    "mask_val = -9999\n",
    "\n",
    "idx = temperature_data.grids == mask_val\n",
    "temperature_data.grids[idx] = np.nan"
   ]
  },
  {
   "cell_type": "markdown",
   "metadata": {},
   "source": [
    "#### Create Empty Degree-day gridss"
   ]
  },
  {
   "cell_type": "code",
   "execution_count": 5,
   "metadata": {},
   "outputs": [],
   "source": [
    "# get the shape of the gridded data\n",
    "grid_shape = temperature_data.config['grid_shape']\n",
    "\n",
    "fdd_data = TemporalGrid(\n",
    "    grid_shape[0], grid_shape[1], num_years, \n",
    "    start_timestep=start_year,\n",
    "    dataset_name = 'fdd',\n",
    "    mode='w+'\n",
    ")\n",
    "tdd_data = TemporalGrid(\n",
    "    grid_shape[0], grid_shape[1], num_years, \n",
    "    start_timestep=start_year,\n",
    "    dataset_name = 'tdd',\n",
    "    mode='w+'\n",
    ")"
   ]
  },
  {
   "cell_type": "markdown",
   "metadata": {},
   "source": [
    "#### Create Array of Days\n",
    "\n",
    "create an array of days since the start of the time period to use to create spline functions to caclulate the degree days. This can be done quickly using `ddc.calc_degree_days.create_day_array` whcih take an array of datatime objects and returns an array of days."
   ]
  },
  {
   "cell_type": "code",
   "execution_count": 6,
   "metadata": {},
   "outputs": [],
   "source": [
    "days = create_day_array( \n",
    "    [datetime.strptime(d, '%Y-%m') for d in temporal_grid_keys] \n",
    ")"
   ]
  },
  {
   "cell_type": "markdown",
   "metadata": {},
   "source": [
    "#### Setup Logging\n",
    "\n",
    "Use a `multiprocessing.Manager` object to create a shared dict that is used for logging by `ddc.calc_degree_days.calc_gird_degree_days`\n",
    "\n",
    "Set `log['verbose']` to 0, 1, or 2 to disable logging, show only warnings, or show all messages respectively\n",
    "\n",
    "Logging is not strictly necessary, and if you don't want to use it skip this step, and dont pass the `log` argument to the  calc_grid_degree_days function."
   ]
  },
  {
   "cell_type": "code",
   "execution_count": 7,
   "metadata": {},
   "outputs": [],
   "source": [
    "manager = Manager()\n",
    "\n",
    "log = manager.dict() \n",
    "\n",
    "log.update(\n",
    "    {'Element Messages': manager.list() , 'Spline Errors': manager.list()}\n",
    ")\n",
    "log['verbose'] = 2 # 0,1,2\n",
    "\n"
   ]
  },
  {
   "cell_type": "markdown",
   "metadata": {},
   "source": [
    "#### Caclulate degree days.\n",
    "\n",
    "`ddc.calc_degree_days.calc_gird_degree_days` takes the following parameters:\n",
    "\n",
    "    day_array: list like\n",
    "        Day number for each temperature value. len(days_array) == temp_grid.shape[0].\n",
    "    \n",
    "    temp_grid: np.memmap\n",
    "        2d memory mapped array of montly temperature values. The shape is (number_months, grid_rows*grid_columns).\n",
    "        \n",
    "    tdd_grid: np.memmap\n",
    "        2d memory mapped array of thawing degree-day values. The shape is (number_years, grid_rows*grid_columns)\n",
    "        \n",
    "    fdd_grid: np.memmap\n",
    "        2d memory mapped array of freezing degree-day values. The shape is (number_years, grid_rows*grid_columns)\n",
    "    \n",
    "    shape: tuple\n",
    "        shape of model domain (grid_rows*grid_columns)\n",
    "        \n",
    "    start: int, defaults to 0 , or list\n",
    "        Element to start calculations at. This allows calculations to be resumed if the process is interrupted\n",
    "        \n",
    "    num_process: int, Defaults to 1.\n",
    "        Number of processes to use\n",
    "    \n",
    "    log: dict or dict like\n",
    "        used for loging \n",
    "        \n",
    "        \n",
    "   The multigrid variables we created (temperature_data, tdd_data, fdd_data) in the previous steps keep their memory mapped grid data in the `.grids` attribute. This attribure keeps data in the shape (n_grids [n_timestpes in our case], n_rows*n_columns) which is already what `ddc.calc_degree_days.calc_gird_degree_days`  needs to opperate, so we can just pass the `.grids` attribute to it. This also handily stores the results in the multigrids which allows them to be easily saved in the next step\n"
   ]
  },
  {
   "cell_type": "code",
   "execution_count": null,
   "metadata": {},
   "outputs": [],
   "source": [
    "\n",
    "num_processes = 6\n",
    "\n",
    "missing_elements = calc_grid_degree_days(\n",
    "    days, \n",
    "    temperature_data.grids, \n",
    "    tdd_data.grids, \n",
    "    fdd_data.grids, \n",
    "    grid_shape, \n",
    "    num_process = num_processes,\n",
    ")"
   ]
  },
  {
   "cell_type": "markdown",
   "metadata": {},
   "source": [
    "#### Save  Data"
   ]
  },
  {
   "cell_type": "code",
   "execution_count": null,
   "metadata": {},
   "outputs": [],
   "source": [
    "tdd_out = './tdd'\n",
    "fdd_out = './fdd'\n",
    "\n",
    "try:\n",
    "    os.makedirs(tdd_out)\n",
    "except IOError:\n",
    "    pass\n",
    "\n",
    "try:\n",
    "    os.makedirs(fdd_out)\n",
    "except IOError:\n",
    "    pass\n",
    "\n",
    "fdd_data.config['raster_metadata'] = raster_metadata\n",
    "tdd_data.config['raster_metadata'] = raster_metadata\n",
    "\n",
    "fdd_data.save_all_as_geotiff(fdd_out)\n",
    "tdd_data.save_all_as_geotiff(tdd_out)"
   ]
  },
  {
   "cell_type": "markdown",
   "metadata": {},
   "source": [
    "#### View results"
   ]
  },
  {
   "cell_type": "code",
   "execution_count": null,
   "metadata": {},
   "outputs": [],
   "source": [
    "data = gdal.Open(os.path.join('tdd', 'tdd_1902.tif'))\n",
    "plt.imshow(data.ReadAsArray(), cmap='Reds', vmin=0, vmax=1250)\n",
    "plt.colorbar()"
   ]
  },
  {
   "cell_type": "markdown",
   "metadata": {},
   "source": [
    "#### Notes on Resuming Calculations \n",
    "\n",
    "If you are worried that the caculations performed here may be interupted you can save the degree-day TemporalGrids before calling `ddc.calc_degree_days.calc_gird_degree_days`, by using the `.save` method. The `.save` method save the Temporal Grid as a `.mgdata` (the data) and `.yml` (the metadata) file Now if the function is intrupeted you can reload the data using `ddc.multigrids.TemporalGrid`."
   ]
  },
  {
   "cell_type": "code",
   "execution_count": null,
   "metadata": {},
   "outputs": [],
   "source": [
    "# save \n",
    "fdd_data.save('fdd.yml') ## pass the metadata name as the save name\n",
    "tdd_data.save('tdd.yml')\n",
    "\n",
    "# load\n",
    "\n",
    "fdd_data = TemporalGrid('fdd.yml') ## load by passing the metadata name\n",
    "tdd_data = TemporalGrid('tdd.yml')"
   ]
  }
 ],
 "metadata": {
  "kernelspec": {
   "display_name": "Python 3",
   "language": "python",
   "name": "python3"
  },
  "language_info": {
   "codemirror_mode": {
    "name": "ipython",
    "version": 3
   },
   "file_extension": ".py",
   "mimetype": "text/x-python",
   "name": "python",
   "nbconvert_exporter": "python",
   "pygments_lexer": "ipython3",
   "version": "3.7.7"
  }
 },
 "nbformat": 4,
 "nbformat_minor": 2
}
